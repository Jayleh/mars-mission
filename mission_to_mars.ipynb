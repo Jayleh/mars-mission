{
 "cells": [
  {
   "cell_type": "code",
   "execution_count": 26,
   "metadata": {
    "collapsed": true
   },
   "outputs": [],
   "source": [
    "# Dependencies\n",
    "from bs4 import BeautifulSoup\n",
    "import requests\n",
    "import pymongo\n",
    "import re"
   ]
  },
  {
   "cell_type": "code",
   "execution_count": 27,
   "metadata": {
    "collapsed": true
   },
   "outputs": [],
   "source": [
    "# Mars exploration program url\n",
    "url = \"https://mars.nasa.gov/news/\"\n",
    "\n",
    "# Retrieve page with the requests module\n",
    "response = requests.get(url)\n",
    "\n",
    "# Create BeautifulSoup object; parse with 'lxml'\n",
    "soup = BeautifulSoup(response.text, 'lxml')"
   ]
  },
  {
   "cell_type": "code",
   "execution_count": 33,
   "metadata": {},
   "outputs": [
    {
     "name": "stdout",
     "output_type": "stream",
     "text": [
      "[<div class=\"content_title\">\n",
      "<a href=\"/news/8326/nasa-invests-in-visionary-technology/\">\n",
      "NASA Invests in Visionary Technology \n",
      "</a>\n",
      "</div>, <div class=\"content_title\">\n",
      "<a href=\"/news/8325/nasa-is-ready-to-study-the-heart-of-mars/\">\n",
      "NASA is Ready to Study the Heart of Mars\n",
      "</a>\n",
      "</div>, <div class=\"content_title\">\n",
      "<a href=\"/news/8322/nasa-briefing-on-first-mission-to-study-mars-interior/\">\n",
      "NASA Briefing on First Mission to Study Mars Interior\n",
      "</a>\n",
      "</div>, <div class=\"content_title\">\n",
      "<a href=\"/news/8321/new-ar-mobile-app-features-3-d-nasa-spacecraft/\">\n",
      "New 'AR' Mobile App Features 3-D NASA Spacecraft\n",
      "</a>\n",
      "</div>, <div class=\"content_title\">\n",
      "<a href=\"/news/8317/witness-first-mars-launch-from-west-coast/\">\n",
      "Witness First Mars Launch from West Coast\n",
      "</a>\n",
      "</div>, <div class=\"content_title\">\n",
      "<a href=\"/news/8315/nasa-insight-mission-to-mars-arrives-at-launch-site/\">\n",
      "NASA InSight Mission to Mars Arrives at Launch Site\n",
      "</a>\n",
      "</div>]\n"
     ]
    }
   ],
   "source": [
    "# Retrieve news title\n",
    "results = soup.find_all(\"div\", class_=\"content_title\")\n",
    "print(results)"
   ]
  },
  {
   "cell_type": "code",
   "execution_count": 35,
   "metadata": {
    "scrolled": true
   },
   "outputs": [
    {
     "data": {
      "text/plain": [
       "<div class=\"image_and_description_container\">\n",
       "<a href=\"/news/8326/nasa-invests-in-visionary-technology/\">\n",
       "<div class=\"rollover_description\">\n",
       "<div class=\"rollover_description_inner\">\n",
       "NASA is investing in technology concepts, including several from JPL, that may one day be used for future space exploration missions.\n",
       "</div>\n",
       "<div class=\"overlay_arrow\">\n",
       "<img alt=\"More\" src=\"/assets/overlay-arrow.png\"/>\n",
       "</div>\n",
       "</div>\n",
       "<img alt=\"NASA Invests in Visionary Technology \" class=\"img-lazy\" data-lazy=\"/system/news_items/list_view_images/8326_niac320.jpg\" src=\"/assets/loading_320x240.png\"/>\n",
       "</a>\n",
       "</div>"
      ]
     },
     "execution_count": 35,
     "metadata": {},
     "output_type": "execute_result"
    }
   ],
   "source": [
    "soup.find(\"div\", class_=\"image_and_description_container\")"
   ]
  },
  {
   "cell_type": "code",
   "execution_count": null,
   "metadata": {
    "collapsed": true
   },
   "outputs": [],
   "source": []
  }
 ],
 "metadata": {
  "kernelspec": {
   "display_name": "Python [conda env:PythonData]",
   "language": "python",
   "name": "conda-env-PythonData-py"
  },
  "language_info": {
   "codemirror_mode": {
    "name": "ipython",
    "version": 3
   },
   "file_extension": ".py",
   "mimetype": "text/x-python",
   "name": "python",
   "nbconvert_exporter": "python",
   "pygments_lexer": "ipython3",
   "version": "3.6.3"
  }
 },
 "nbformat": 4,
 "nbformat_minor": 2
}
